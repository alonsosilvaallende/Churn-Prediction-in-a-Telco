{
  "nbformat": 4,
  "nbformat_minor": 0,
  "metadata": {
    "colab": {
      "name": "Churn_Telecom_v3.0.ipynb",
      "provenance": [],
      "collapsed_sections": [
        "3Hs1osCSdjsj"
      ],
      "include_colab_link": true
    },
    "kernelspec": {
      "name": "python3",
      "display_name": "Python 3"
    }
  },
  "cells": [
    {
      "cell_type": "markdown",
      "metadata": {
        "id": "view-in-github",
        "colab_type": "text"
      },
      "source": [
        "<a href=\"https://colab.research.google.com/github/alonsosilvaallende/Churn-Prediction-in-a-Telco/blob/master/Churn-Prediction-in-a-Telco_colab.ipynb\" target=\"_parent\"><img src=\"https://colab.research.google.com/assets/colab-badge.svg\" alt=\"Open In Colab\"/></a>"
      ]
    },
    {
      "cell_type": "code",
      "metadata": {
        "id": "uBN1uaBEmMa7",
        "colab_type": "code",
        "colab": {}
      },
      "source": [
        "# install lifelines and pysurvival\n",
        "pip install -q lifelines pysurvival"
      ],
      "execution_count": 0,
      "outputs": []
    },
    {
      "cell_type": "code",
      "metadata": {
        "id": "SmQ7emzZhket",
        "colab_type": "code",
        "colab": {}
      },
      "source": [
        "# usual imports\n",
        "import pandas as pd\n",
        "import numpy as np\n",
        "from matplotlib import pyplot as plt\n",
        "\n",
        "%matplotlib inline"
      ],
      "execution_count": 0,
      "outputs": []
    },
    {
      "cell_type": "markdown",
      "metadata": {
        "id": "0Bl87qQJf-QZ",
        "colab_type": "text"
      },
      "source": [
        "# Churn prediction in a telco using random forests"
      ]
    },
    {
      "cell_type": "markdown",
      "metadata": {
        "id": "kurG8Szkulo9",
        "colab_type": "text"
      },
      "source": [
        "Customer churn is the loss of clients or customers. In order to avoid losing customers, a company needs to examine why its customers have left in the past and which features are more important to determine who will churn next. Our task is therefore to predict whether customers are about to churn and which are the most important features to get that prediction. How can we use machine learning to better predict customer churn?\n",
        "\n",
        "Given a dataset how can you evaluate if your churn predictions were right or not? Everybody will eventually churn (some people will change to a different company, some people will stop using the services altogether, and eventually all the people will churn if not because everybody eventually dies).\n",
        "So the question remains, how do you evaluate if your churn predictions were right or wrong?\n",
        "\n",
        "It has been argued elsewhere (see for example [here](https://ragulpr.github.io/2016/12/22/WTTE-RNN-Hackless-churn-modeling/)) that the right approach to evaluate churn prediction models is through the concordance index and I'm convinced that it is a better approach than to treat it as a binary classification problem because of the reasons explained above (although you are free to try binary classification as well).\n",
        "I think the right way to think about the problem is that given the customers our model has predicted to leave in a certain order, that that order has been right. The customers that were predicted to churn first have indeed churned first. Therefore, the right appoach is to evaluate our machine learning models is through the concordance index.\n",
        "\n",
        "In this post, I will use different kinds of random forests to predict churn in a telco.\n",
        "\n",
        "Treselle Systems, a data consulting service, [analyzed customer churn data using logistic regression](http://www.treselle.com/blog/customer-churn-logistic-regression-with-r/).\n",
        "\n",
        "We will use that dataset to do our analysis. The dataset includes information about:\n",
        "\n",
        "+ Customers who left within the last month – the column is called Churn\n",
        "+ Services that each customer has signed up for – phone, multiple lines, internet, online security, online backup, device protection, tech support, and streaming TV and movies\n",
        "+ Customer account information – how long they’ve been a customer, contract, payment method, paperless billing, monthly charges, and total charges\n",
        "+ Demographic info about customers – gender, age range, and if they have partners and dependents"
      ]
    },
    {
      "cell_type": "code",
      "metadata": {
        "id": "sOwy8uhHhYiW",
        "colab_type": "code",
        "outputId": "c476ae47-d5a4-4c93-ba28-2fd84d1616ee",
        "colab": {
          "base_uri": "https://localhost:8080/",
          "height": 700
        }
      },
      "source": [
        "churn_data = pd.read_csv('https://raw.githubusercontent.com/treselle-systems/customer_churn_analysis/master/WA_Fn-UseC_-Telco-Customer-Churn.csv')\n",
        "churn_data.head().T"
      ],
      "execution_count": 3,
      "outputs": [
        {
          "output_type": "execute_result",
          "data": {
            "text/html": [
              "<div>\n",
              "<style scoped>\n",
              "    .dataframe tbody tr th:only-of-type {\n",
              "        vertical-align: middle;\n",
              "    }\n",
              "\n",
              "    .dataframe tbody tr th {\n",
              "        vertical-align: top;\n",
              "    }\n",
              "\n",
              "    .dataframe thead th {\n",
              "        text-align: right;\n",
              "    }\n",
              "</style>\n",
              "<table border=\"1\" class=\"dataframe\">\n",
              "  <thead>\n",
              "    <tr style=\"text-align: right;\">\n",
              "      <th></th>\n",
              "      <th>0</th>\n",
              "      <th>1</th>\n",
              "      <th>2</th>\n",
              "      <th>3</th>\n",
              "      <th>4</th>\n",
              "    </tr>\n",
              "  </thead>\n",
              "  <tbody>\n",
              "    <tr>\n",
              "      <th>customerID</th>\n",
              "      <td>7590-VHVEG</td>\n",
              "      <td>5575-GNVDE</td>\n",
              "      <td>3668-QPYBK</td>\n",
              "      <td>7795-CFOCW</td>\n",
              "      <td>9237-HQITU</td>\n",
              "    </tr>\n",
              "    <tr>\n",
              "      <th>gender</th>\n",
              "      <td>Female</td>\n",
              "      <td>Male</td>\n",
              "      <td>Male</td>\n",
              "      <td>Male</td>\n",
              "      <td>Female</td>\n",
              "    </tr>\n",
              "    <tr>\n",
              "      <th>SeniorCitizen</th>\n",
              "      <td>0</td>\n",
              "      <td>0</td>\n",
              "      <td>0</td>\n",
              "      <td>0</td>\n",
              "      <td>0</td>\n",
              "    </tr>\n",
              "    <tr>\n",
              "      <th>Partner</th>\n",
              "      <td>Yes</td>\n",
              "      <td>No</td>\n",
              "      <td>No</td>\n",
              "      <td>No</td>\n",
              "      <td>No</td>\n",
              "    </tr>\n",
              "    <tr>\n",
              "      <th>Dependents</th>\n",
              "      <td>No</td>\n",
              "      <td>No</td>\n",
              "      <td>No</td>\n",
              "      <td>No</td>\n",
              "      <td>No</td>\n",
              "    </tr>\n",
              "    <tr>\n",
              "      <th>tenure</th>\n",
              "      <td>1</td>\n",
              "      <td>34</td>\n",
              "      <td>2</td>\n",
              "      <td>45</td>\n",
              "      <td>2</td>\n",
              "    </tr>\n",
              "    <tr>\n",
              "      <th>PhoneService</th>\n",
              "      <td>No</td>\n",
              "      <td>Yes</td>\n",
              "      <td>Yes</td>\n",
              "      <td>No</td>\n",
              "      <td>Yes</td>\n",
              "    </tr>\n",
              "    <tr>\n",
              "      <th>MultipleLines</th>\n",
              "      <td>No phone service</td>\n",
              "      <td>No</td>\n",
              "      <td>No</td>\n",
              "      <td>No phone service</td>\n",
              "      <td>No</td>\n",
              "    </tr>\n",
              "    <tr>\n",
              "      <th>InternetService</th>\n",
              "      <td>DSL</td>\n",
              "      <td>DSL</td>\n",
              "      <td>DSL</td>\n",
              "      <td>DSL</td>\n",
              "      <td>Fiber optic</td>\n",
              "    </tr>\n",
              "    <tr>\n",
              "      <th>OnlineSecurity</th>\n",
              "      <td>No</td>\n",
              "      <td>Yes</td>\n",
              "      <td>Yes</td>\n",
              "      <td>Yes</td>\n",
              "      <td>No</td>\n",
              "    </tr>\n",
              "    <tr>\n",
              "      <th>OnlineBackup</th>\n",
              "      <td>Yes</td>\n",
              "      <td>No</td>\n",
              "      <td>Yes</td>\n",
              "      <td>No</td>\n",
              "      <td>No</td>\n",
              "    </tr>\n",
              "    <tr>\n",
              "      <th>DeviceProtection</th>\n",
              "      <td>No</td>\n",
              "      <td>Yes</td>\n",
              "      <td>No</td>\n",
              "      <td>Yes</td>\n",
              "      <td>No</td>\n",
              "    </tr>\n",
              "    <tr>\n",
              "      <th>TechSupport</th>\n",
              "      <td>No</td>\n",
              "      <td>No</td>\n",
              "      <td>No</td>\n",
              "      <td>Yes</td>\n",
              "      <td>No</td>\n",
              "    </tr>\n",
              "    <tr>\n",
              "      <th>StreamingTV</th>\n",
              "      <td>No</td>\n",
              "      <td>No</td>\n",
              "      <td>No</td>\n",
              "      <td>No</td>\n",
              "      <td>No</td>\n",
              "    </tr>\n",
              "    <tr>\n",
              "      <th>StreamingMovies</th>\n",
              "      <td>No</td>\n",
              "      <td>No</td>\n",
              "      <td>No</td>\n",
              "      <td>No</td>\n",
              "      <td>No</td>\n",
              "    </tr>\n",
              "    <tr>\n",
              "      <th>Contract</th>\n",
              "      <td>Month-to-month</td>\n",
              "      <td>One year</td>\n",
              "      <td>Month-to-month</td>\n",
              "      <td>One year</td>\n",
              "      <td>Month-to-month</td>\n",
              "    </tr>\n",
              "    <tr>\n",
              "      <th>PaperlessBilling</th>\n",
              "      <td>Yes</td>\n",
              "      <td>No</td>\n",
              "      <td>Yes</td>\n",
              "      <td>No</td>\n",
              "      <td>Yes</td>\n",
              "    </tr>\n",
              "    <tr>\n",
              "      <th>PaymentMethod</th>\n",
              "      <td>Electronic check</td>\n",
              "      <td>Mailed check</td>\n",
              "      <td>Mailed check</td>\n",
              "      <td>Bank transfer (automatic)</td>\n",
              "      <td>Electronic check</td>\n",
              "    </tr>\n",
              "    <tr>\n",
              "      <th>MonthlyCharges</th>\n",
              "      <td>29.85</td>\n",
              "      <td>56.95</td>\n",
              "      <td>53.85</td>\n",
              "      <td>42.3</td>\n",
              "      <td>70.7</td>\n",
              "    </tr>\n",
              "    <tr>\n",
              "      <th>TotalCharges</th>\n",
              "      <td>29.85</td>\n",
              "      <td>1889.5</td>\n",
              "      <td>108.15</td>\n",
              "      <td>1840.75</td>\n",
              "      <td>151.65</td>\n",
              "    </tr>\n",
              "    <tr>\n",
              "      <th>Churn</th>\n",
              "      <td>No</td>\n",
              "      <td>No</td>\n",
              "      <td>Yes</td>\n",
              "      <td>No</td>\n",
              "      <td>Yes</td>\n",
              "    </tr>\n",
              "  </tbody>\n",
              "</table>\n",
              "</div>"
            ],
            "text/plain": [
              "                                 0  ...                 4\n",
              "customerID              7590-VHVEG  ...        9237-HQITU\n",
              "gender                      Female  ...            Female\n",
              "SeniorCitizen                    0  ...                 0\n",
              "Partner                        Yes  ...                No\n",
              "Dependents                      No  ...                No\n",
              "tenure                           1  ...                 2\n",
              "PhoneService                    No  ...               Yes\n",
              "MultipleLines     No phone service  ...                No\n",
              "InternetService                DSL  ...       Fiber optic\n",
              "OnlineSecurity                  No  ...                No\n",
              "OnlineBackup                   Yes  ...                No\n",
              "DeviceProtection                No  ...                No\n",
              "TechSupport                     No  ...                No\n",
              "StreamingTV                     No  ...                No\n",
              "StreamingMovies                 No  ...                No\n",
              "Contract            Month-to-month  ...    Month-to-month\n",
              "PaperlessBilling               Yes  ...               Yes\n",
              "PaymentMethod     Electronic check  ...  Electronic check\n",
              "MonthlyCharges               29.85  ...              70.7\n",
              "TotalCharges                 29.85  ...            151.65\n",
              "Churn                           No  ...               Yes\n",
              "\n",
              "[21 rows x 5 columns]"
            ]
          },
          "metadata": {
            "tags": []
          },
          "execution_count": 3
        }
      ]
    },
    {
      "cell_type": "markdown",
      "metadata": {
        "id": "SQycED_Ko3AZ",
        "colab_type": "text"
      },
      "source": [
        "## Preprocessing"
      ]
    },
    {
      "cell_type": "markdown",
      "metadata": {
        "id": "hbRttpiAAxbO",
        "colab_type": "text"
      },
      "source": [
        "We first verify that there are no NaNs and there are no duplicated records."
      ]
    },
    {
      "cell_type": "code",
      "metadata": {
        "id": "bwpLOaCuW7Vg",
        "colab_type": "code",
        "outputId": "9820fae7-66cf-44dd-987d-b6a4d93d7a72",
        "colab": {
          "base_uri": "https://localhost:8080/",
          "height": 391
        }
      },
      "source": [
        "# count how many NaN values does each feature/covariable have\n",
        "churn_data.isnull().sum()"
      ],
      "execution_count": 4,
      "outputs": [
        {
          "output_type": "execute_result",
          "data": {
            "text/plain": [
              "customerID          0\n",
              "gender              0\n",
              "SeniorCitizen       0\n",
              "Partner             0\n",
              "Dependents          0\n",
              "tenure              0\n",
              "PhoneService        0\n",
              "MultipleLines       0\n",
              "InternetService     0\n",
              "OnlineSecurity      0\n",
              "OnlineBackup        0\n",
              "DeviceProtection    0\n",
              "TechSupport         0\n",
              "StreamingTV         0\n",
              "StreamingMovies     0\n",
              "Contract            0\n",
              "PaperlessBilling    0\n",
              "PaymentMethod       0\n",
              "MonthlyCharges      0\n",
              "TotalCharges        0\n",
              "Churn               0\n",
              "dtype: int64"
            ]
          },
          "metadata": {
            "tags": []
          },
          "execution_count": 4
        }
      ]
    },
    {
      "cell_type": "code",
      "metadata": {
        "id": "aaCefTkPqXXz",
        "colab_type": "code",
        "outputId": "f101200c-ec0b-40db-a6e6-bf731df2fe2b",
        "colab": {
          "base_uri": "https://localhost:8080/",
          "height": 34
        }
      },
      "source": [
        "# Checking for duplicates\n",
        "N_dupli = sum(churn_data.duplicated())\n",
        "print(f'The data set contains {N_dupli} duplicates')"
      ],
      "execution_count": 5,
      "outputs": [
        {
          "output_type": "stream",
          "text": [
            "The data set contains 0 duplicates\n"
          ],
          "name": "stdout"
        }
      ]
    },
    {
      "cell_type": "code",
      "metadata": {
        "id": "pHc_B96fiCXB",
        "colab_type": "code",
        "outputId": "91771e1b-e69d-4214-bad2-dc25e59e3842",
        "colab": {
          "base_uri": "https://localhost:8080/",
          "height": 119
        }
      },
      "source": [
        "N = churn_data.shape[0]\n",
        "hasNotChurned = sum(churn_data['Churn']=='No')\n",
        "hasChurned = sum(churn_data['Churn']=='Yes')\n",
        "\n",
        "print(f'Number of samples: {N}')\n",
        "print(f'Number of columns: {churn_data.shape[1]}')\n",
        "print(f'Number of customers that have churned: {hasChurned}')\n",
        "print(f'Number of customers that have not churned yet: {hasNotChurned}')\n",
        "print(f'Percentage of customers that have churned: {100*hasChurned/len(churn_data):.0f}%')\n",
        "print(f'Percentage of customers that have not churned yet: {100*hasNotChurned/len(churn_data):.0f}%')"
      ],
      "execution_count": 7,
      "outputs": [
        {
          "output_type": "stream",
          "text": [
            "Number of samples: 7043\n",
            "Number of columns: 21\n",
            "Number of customers that have churned: 1869\n",
            "Number of customers that have not churned yet: 5174\n",
            "Percentage of customers that have churned: 27%\n",
            "Percentage of customers that have not churned yet: 73%\n"
          ],
          "name": "stdout"
        }
      ]
    },
    {
      "cell_type": "markdown",
      "metadata": {
        "id": "DNjdsQChDYHm",
        "colab_type": "text"
      },
      "source": [
        "In the dataset, there are 7043 customers, of which 1869 customers have churned and 5174 customers that have not churned yet."
      ]
    },
    {
      "cell_type": "markdown",
      "metadata": {
        "id": "Fs2AZYs-A6mO",
        "colab_type": "text"
      },
      "source": [
        "We drop the ID column and the TotalCharges column (otherwise by knowing the MonthlyCharges our model can easily deduce how many months someone has been subscribed)"
      ]
    },
    {
      "cell_type": "code",
      "metadata": {
        "id": "jiqMaNPHq5Sg",
        "colab_type": "code",
        "colab": {}
      },
      "source": [
        "# Drop customerID column\n",
        "churn_data = churn_data.drop('customerID', axis=1)\n",
        "\n",
        "# Drop TotalCharges column: otherwise together with MonthlyCharges you can deduce how many months you have been subscribed\n",
        "churn_data = churn_data.drop('TotalCharges', axis=1)"
      ],
      "execution_count": 0,
      "outputs": []
    },
    {
      "cell_type": "code",
      "metadata": {
        "id": "FCilsLD9pFbM",
        "colab_type": "code",
        "outputId": "6fbf981c-d37c-4978-ec9c-fd2e537538d9",
        "colab": {
          "base_uri": "https://localhost:8080/",
          "height": 357
        }
      },
      "source": [
        "churn_data.dtypes"
      ],
      "execution_count": 9,
      "outputs": [
        {
          "output_type": "execute_result",
          "data": {
            "text/plain": [
              "gender               object\n",
              "SeniorCitizen         int64\n",
              "Partner              object\n",
              "Dependents           object\n",
              "tenure                int64\n",
              "PhoneService         object\n",
              "MultipleLines        object\n",
              "InternetService      object\n",
              "OnlineSecurity       object\n",
              "OnlineBackup         object\n",
              "DeviceProtection     object\n",
              "TechSupport          object\n",
              "StreamingTV          object\n",
              "StreamingMovies      object\n",
              "Contract             object\n",
              "PaperlessBilling     object\n",
              "PaymentMethod        object\n",
              "MonthlyCharges      float64\n",
              "Churn                object\n",
              "dtype: object"
            ]
          },
          "metadata": {
            "tags": []
          },
          "execution_count": 9
        }
      ]
    },
    {
      "cell_type": "markdown",
      "metadata": {
        "id": "o7rmNjJ0XV_Y",
        "colab_type": "text"
      },
      "source": [
        "### Convert object variables to numerical variables."
      ]
    },
    {
      "cell_type": "markdown",
      "metadata": {
        "id": "0AjeKcPCV4lH",
        "colab_type": "text"
      },
      "source": [
        "The column of Churn is an object data type, so we transform it to a numerical data type."
      ]
    },
    {
      "cell_type": "code",
      "metadata": {
        "id": "yZSthdnyphtu",
        "colab_type": "code",
        "colab": {}
      },
      "source": [
        "churn_data['Churn'] = churn_data['Churn'].map({'No': False, 'Yes': True})"
      ],
      "execution_count": 0,
      "outputs": []
    },
    {
      "cell_type": "markdown",
      "metadata": {
        "id": "-nP4l4R3a4ao",
        "colab_type": "text"
      },
      "source": [
        "We use [one-hot encoding](https://en.wikipedia.org/wiki/One-hot) for the categorical variables."
      ]
    },
    {
      "cell_type": "code",
      "metadata": {
        "id": "TBWhrpv_SX9q",
        "colab_type": "code",
        "colab": {}
      },
      "source": [
        "# creating one-hot columns\n",
        "categories = ['gender', 'Partner', 'Dependents', 'PhoneService', 'MultipleLines', 'InternetService', 'OnlineSecurity', 'OnlineBackup', 'DeviceProtection', 'TechSupport', 'StreamingTV', 'StreamingMovies', 'Contract', 'PaperlessBilling', 'PaymentMethod']\n",
        "churn_data = pd.get_dummies(churn_data, columns=categories, drop_first=True, dtype=float)"
      ],
      "execution_count": 0,
      "outputs": []
    },
    {
      "cell_type": "code",
      "metadata": {
        "id": "iiXfEJwOuZYR",
        "colab_type": "code",
        "outputId": "a4c3f1cc-09cd-481c-ea22-52b007abd71a",
        "colab": {
          "base_uri": "https://localhost:8080/",
          "height": 258
        }
      },
      "source": [
        "churn_data.head()"
      ],
      "execution_count": 12,
      "outputs": [
        {
          "output_type": "execute_result",
          "data": {
            "text/html": [
              "<div>\n",
              "<style scoped>\n",
              "    .dataframe tbody tr th:only-of-type {\n",
              "        vertical-align: middle;\n",
              "    }\n",
              "\n",
              "    .dataframe tbody tr th {\n",
              "        vertical-align: top;\n",
              "    }\n",
              "\n",
              "    .dataframe thead th {\n",
              "        text-align: right;\n",
              "    }\n",
              "</style>\n",
              "<table border=\"1\" class=\"dataframe\">\n",
              "  <thead>\n",
              "    <tr style=\"text-align: right;\">\n",
              "      <th></th>\n",
              "      <th>SeniorCitizen</th>\n",
              "      <th>tenure</th>\n",
              "      <th>MonthlyCharges</th>\n",
              "      <th>Churn</th>\n",
              "      <th>gender_Male</th>\n",
              "      <th>Partner_Yes</th>\n",
              "      <th>Dependents_Yes</th>\n",
              "      <th>PhoneService_Yes</th>\n",
              "      <th>MultipleLines_No phone service</th>\n",
              "      <th>MultipleLines_Yes</th>\n",
              "      <th>InternetService_Fiber optic</th>\n",
              "      <th>InternetService_No</th>\n",
              "      <th>OnlineSecurity_No internet service</th>\n",
              "      <th>OnlineSecurity_Yes</th>\n",
              "      <th>OnlineBackup_No internet service</th>\n",
              "      <th>OnlineBackup_Yes</th>\n",
              "      <th>DeviceProtection_No internet service</th>\n",
              "      <th>DeviceProtection_Yes</th>\n",
              "      <th>TechSupport_No internet service</th>\n",
              "      <th>TechSupport_Yes</th>\n",
              "      <th>StreamingTV_No internet service</th>\n",
              "      <th>StreamingTV_Yes</th>\n",
              "      <th>StreamingMovies_No internet service</th>\n",
              "      <th>StreamingMovies_Yes</th>\n",
              "      <th>Contract_One year</th>\n",
              "      <th>Contract_Two year</th>\n",
              "      <th>PaperlessBilling_Yes</th>\n",
              "      <th>PaymentMethod_Credit card (automatic)</th>\n",
              "      <th>PaymentMethod_Electronic check</th>\n",
              "      <th>PaymentMethod_Mailed check</th>\n",
              "    </tr>\n",
              "  </thead>\n",
              "  <tbody>\n",
              "    <tr>\n",
              "      <th>0</th>\n",
              "      <td>0</td>\n",
              "      <td>1</td>\n",
              "      <td>29.85</td>\n",
              "      <td>False</td>\n",
              "      <td>0.0</td>\n",
              "      <td>1.0</td>\n",
              "      <td>0.0</td>\n",
              "      <td>0.0</td>\n",
              "      <td>1.0</td>\n",
              "      <td>0.0</td>\n",
              "      <td>0.0</td>\n",
              "      <td>0.0</td>\n",
              "      <td>0.0</td>\n",
              "      <td>0.0</td>\n",
              "      <td>0.0</td>\n",
              "      <td>1.0</td>\n",
              "      <td>0.0</td>\n",
              "      <td>0.0</td>\n",
              "      <td>0.0</td>\n",
              "      <td>0.0</td>\n",
              "      <td>0.0</td>\n",
              "      <td>0.0</td>\n",
              "      <td>0.0</td>\n",
              "      <td>0.0</td>\n",
              "      <td>0.0</td>\n",
              "      <td>0.0</td>\n",
              "      <td>1.0</td>\n",
              "      <td>0.0</td>\n",
              "      <td>1.0</td>\n",
              "      <td>0.0</td>\n",
              "    </tr>\n",
              "    <tr>\n",
              "      <th>1</th>\n",
              "      <td>0</td>\n",
              "      <td>34</td>\n",
              "      <td>56.95</td>\n",
              "      <td>False</td>\n",
              "      <td>1.0</td>\n",
              "      <td>0.0</td>\n",
              "      <td>0.0</td>\n",
              "      <td>1.0</td>\n",
              "      <td>0.0</td>\n",
              "      <td>0.0</td>\n",
              "      <td>0.0</td>\n",
              "      <td>0.0</td>\n",
              "      <td>0.0</td>\n",
              "      <td>1.0</td>\n",
              "      <td>0.0</td>\n",
              "      <td>0.0</td>\n",
              "      <td>0.0</td>\n",
              "      <td>1.0</td>\n",
              "      <td>0.0</td>\n",
              "      <td>0.0</td>\n",
              "      <td>0.0</td>\n",
              "      <td>0.0</td>\n",
              "      <td>0.0</td>\n",
              "      <td>0.0</td>\n",
              "      <td>1.0</td>\n",
              "      <td>0.0</td>\n",
              "      <td>0.0</td>\n",
              "      <td>0.0</td>\n",
              "      <td>0.0</td>\n",
              "      <td>1.0</td>\n",
              "    </tr>\n",
              "    <tr>\n",
              "      <th>2</th>\n",
              "      <td>0</td>\n",
              "      <td>2</td>\n",
              "      <td>53.85</td>\n",
              "      <td>True</td>\n",
              "      <td>1.0</td>\n",
              "      <td>0.0</td>\n",
              "      <td>0.0</td>\n",
              "      <td>1.0</td>\n",
              "      <td>0.0</td>\n",
              "      <td>0.0</td>\n",
              "      <td>0.0</td>\n",
              "      <td>0.0</td>\n",
              "      <td>0.0</td>\n",
              "      <td>1.0</td>\n",
              "      <td>0.0</td>\n",
              "      <td>1.0</td>\n",
              "      <td>0.0</td>\n",
              "      <td>0.0</td>\n",
              "      <td>0.0</td>\n",
              "      <td>0.0</td>\n",
              "      <td>0.0</td>\n",
              "      <td>0.0</td>\n",
              "      <td>0.0</td>\n",
              "      <td>0.0</td>\n",
              "      <td>0.0</td>\n",
              "      <td>0.0</td>\n",
              "      <td>1.0</td>\n",
              "      <td>0.0</td>\n",
              "      <td>0.0</td>\n",
              "      <td>1.0</td>\n",
              "    </tr>\n",
              "    <tr>\n",
              "      <th>3</th>\n",
              "      <td>0</td>\n",
              "      <td>45</td>\n",
              "      <td>42.30</td>\n",
              "      <td>False</td>\n",
              "      <td>1.0</td>\n",
              "      <td>0.0</td>\n",
              "      <td>0.0</td>\n",
              "      <td>0.0</td>\n",
              "      <td>1.0</td>\n",
              "      <td>0.0</td>\n",
              "      <td>0.0</td>\n",
              "      <td>0.0</td>\n",
              "      <td>0.0</td>\n",
              "      <td>1.0</td>\n",
              "      <td>0.0</td>\n",
              "      <td>0.0</td>\n",
              "      <td>0.0</td>\n",
              "      <td>1.0</td>\n",
              "      <td>0.0</td>\n",
              "      <td>1.0</td>\n",
              "      <td>0.0</td>\n",
              "      <td>0.0</td>\n",
              "      <td>0.0</td>\n",
              "      <td>0.0</td>\n",
              "      <td>1.0</td>\n",
              "      <td>0.0</td>\n",
              "      <td>0.0</td>\n",
              "      <td>0.0</td>\n",
              "      <td>0.0</td>\n",
              "      <td>0.0</td>\n",
              "    </tr>\n",
              "    <tr>\n",
              "      <th>4</th>\n",
              "      <td>0</td>\n",
              "      <td>2</td>\n",
              "      <td>70.70</td>\n",
              "      <td>True</td>\n",
              "      <td>0.0</td>\n",
              "      <td>0.0</td>\n",
              "      <td>0.0</td>\n",
              "      <td>1.0</td>\n",
              "      <td>0.0</td>\n",
              "      <td>0.0</td>\n",
              "      <td>1.0</td>\n",
              "      <td>0.0</td>\n",
              "      <td>0.0</td>\n",
              "      <td>0.0</td>\n",
              "      <td>0.0</td>\n",
              "      <td>0.0</td>\n",
              "      <td>0.0</td>\n",
              "      <td>0.0</td>\n",
              "      <td>0.0</td>\n",
              "      <td>0.0</td>\n",
              "      <td>0.0</td>\n",
              "      <td>0.0</td>\n",
              "      <td>0.0</td>\n",
              "      <td>0.0</td>\n",
              "      <td>0.0</td>\n",
              "      <td>0.0</td>\n",
              "      <td>1.0</td>\n",
              "      <td>0.0</td>\n",
              "      <td>1.0</td>\n",
              "      <td>0.0</td>\n",
              "    </tr>\n",
              "  </tbody>\n",
              "</table>\n",
              "</div>"
            ],
            "text/plain": [
              "   SeniorCitizen  ...  PaymentMethod_Mailed check\n",
              "0              0  ...                         0.0\n",
              "1              0  ...                         1.0\n",
              "2              0  ...                         1.0\n",
              "3              0  ...                         0.0\n",
              "4              0  ...                         0.0\n",
              "\n",
              "[5 rows x 30 columns]"
            ]
          },
          "metadata": {
            "tags": []
          },
          "execution_count": 12
        }
      ]
    },
    {
      "cell_type": "markdown",
      "metadata": {
        "id": "YrYT2Q0NBj3e",
        "colab_type": "text"
      },
      "source": [
        "We identify the time and event of interest columns."
      ]
    },
    {
      "cell_type": "code",
      "metadata": {
        "id": "o6v3vTdKd8FJ",
        "colab_type": "code",
        "colab": {}
      },
      "source": [
        "# creating the time and event columns\n",
        "event_col = 'Churn'\n",
        "time_col = 'tenure'\n",
        "\n",
        "# extracting the features/covariables\n",
        "features = np.setdiff1d(churn_data.columns, [time_col, event_col]).tolist()"
      ],
      "execution_count": 0,
      "outputs": []
    },
    {
      "cell_type": "code",
      "metadata": {
        "id": "-sup-x2RbhDB",
        "colab_type": "code",
        "outputId": "2c47961b-77eb-44e5-eb43-fe3204b016e4",
        "colab": {
          "base_uri": "https://localhost:8080/",
          "height": 34
        }
      },
      "source": [
        "print(f'Number of features/covariables: {len(features)}')"
      ],
      "execution_count": 14,
      "outputs": [
        {
          "output_type": "stream",
          "text": [
            "Number of features/covariables: 28\n"
          ],
          "name": "stdout"
        }
      ]
    },
    {
      "cell_type": "markdown",
      "metadata": {
        "id": "nZjRRtaue6dR",
        "colab_type": "text"
      },
      "source": [
        "## Data Analysis"
      ]
    },
    {
      "cell_type": "markdown",
      "metadata": {
        "id": "Hs07lOZqbjNl",
        "colab_type": "text"
      },
      "source": [
        "We split the dataset into training (70%) and testing (30%) datasets."
      ]
    },
    {
      "cell_type": "code",
      "metadata": {
        "id": "NMXud1tVvGM_",
        "colab_type": "code",
        "colab": {}
      },
      "source": [
        "# Building training and testing sets\n",
        "from sklearn.model_selection import train_test_split\n",
        "\n",
        "index_train, index_test = train_test_split(range(N), test_size = 0.3, random_state=0)\n",
        "data_train = churn_data.loc[index_train].reset_index(drop=True)\n",
        "data_test  = churn_data.loc[index_test].reset_index(drop=True)\n",
        "\n",
        "# Creating the X, T and E inputs\n",
        "X_trn, X_val = data_train[features], data_test[features]\n",
        "T_trn, T_val = data_train[time_col], data_test[time_col]\n",
        "E_trn, E_val = data_train[event_col], data_test[event_col]"
      ],
      "execution_count": 0,
      "outputs": []
    },
    {
      "cell_type": "markdown",
      "metadata": {
        "id": "9ntalQ8yoObF",
        "colab_type": "text"
      },
      "source": [
        "## Regression problem"
      ]
    },
    {
      "cell_type": "markdown",
      "metadata": {
        "id": "gquTdEzwB0dt",
        "colab_type": "text"
      },
      "source": [
        "In this post, I want to compare the performance of three different random forests:\n",
        "\n",
        "+ Random forest classifier\n",
        "+ Random forest regressor\n",
        "+ Random survival forest\n",
        "\n",
        "We want to determine from only the set of features/covariables who will churn first. There is no easy way to include in the learning of random forest classifier or random forest regressor both the events of interest (churn) and the times people have been subscribed.\n",
        "\n",
        "Let's first consider only the case when they are using only one information\n",
        "\n",
        "+ Random forest classifier will use the churn information\n",
        "+ Random forest regressor will use the time information\n",
        "\n",
        "and then we will compare with a combination of both random forest classifier and random forest regressor:\n",
        "\n",
        "+ Random forest classifier will use the churn information and we will use that churn information to run a random forest regressor (we call that approach Random forest classifier-regressor).\n",
        "\n",
        "+ Random forest regressor will use the time information and we will use that time information to run a random forest classifier (we call that approach Random forest regressor-classifier)"
      ]
    },
    {
      "cell_type": "code",
      "metadata": {
        "id": "_7ZjpzHBgbAS",
        "colab_type": "code",
        "outputId": "e6461dcf-ac71-42e0-9799-06fec5354f13",
        "colab": {
          "base_uri": "https://localhost:8080/",
          "height": 286
        }
      },
      "source": [
        "from sklearn.ensemble import RandomForestClassifier\n",
        "from lifelines.utils import concordance_index\n",
        "\n",
        "rfc = RandomForestClassifier(n_estimators=100, random_state=0)\n",
        "rfc.fit(X_trn, E_trn)\n",
        "\n",
        "ci_rfc_trn = concordance_index(T_trn, rfc.predict_proba(X_trn)[:,0], E_trn)\n",
        "ci_rfc_val = concordance_index(T_val, rfc.predict_proba(X_val)[:,0], E_val)\n",
        "\n",
        "print(f'Concordance index of Random forest classifier: train: {ci_rfc_trn:.3f} valid: {ci_rfc_val:.3f}')\n",
        "\n",
        "# feature importance\n",
        "fi_rfc = rfc.feature_importances_\n",
        "rfi_rfc =  np.abs(fi_rfc)/np.sum(np.abs(fi_rfc))\n",
        "lab = X_trn.columns\n",
        "df_fi_rfc = pd.DataFrame(data={'importance_rfc': rfi_rfc}, index=lab)\n",
        "df_fi_rfc = df_fi_rfc.sort_values(by='importance_rfc', ascending=True)[-10:]\n",
        "df_fi_rfc.plot.barh(y='importance_rfc');"
      ],
      "execution_count": 19,
      "outputs": [
        {
          "output_type": "stream",
          "text": [
            "Concordance index of Random forest classifier: train: 0.917 valid: 0.765\n"
          ],
          "name": "stdout"
        },
        {
          "output_type": "display_data",
          "data": {
            "image/png": "[encoded data removed]",
            "text/plain": [
              "<Figure size 432x288 with 1 Axes>"
            ]
          },
          "metadata": {
            "tags": []
          }
        }
      ]
    },
    {
      "cell_type": "code",
      "metadata": {
        "id": "TpapOrKDrQ-y",
        "colab_type": "code",
        "outputId": "cfb5b480-b0b7-4c05-eb16-35ea2bd22666",
        "colab": {
          "base_uri": "https://localhost:8080/",
          "height": 359
        }
      },
      "source": [
        "df_fi_rfc.sort_values(by='importance_rfc', ascending=False)"
      ],
      "execution_count": 20,
      "outputs": [
        {
          "output_type": "execute_result",
          "data": {
            "text/html": [
              "<div>\n",
              "<style scoped>\n",
              "    .dataframe tbody tr th:only-of-type {\n",
              "        vertical-align: middle;\n",
              "    }\n",
              "\n",
              "    .dataframe tbody tr th {\n",
              "        vertical-align: top;\n",
              "    }\n",
              "\n",
              "    .dataframe thead th {\n",
              "        text-align: right;\n",
              "    }\n",
              "</style>\n",
              "<table border=\"1\" class=\"dataframe\">\n",
              "  <thead>\n",
              "    <tr style=\"text-align: right;\">\n",
              "      <th></th>\n",
              "      <th>importance_rfc</th>\n",
              "    </tr>\n",
              "  </thead>\n",
              "  <tbody>\n",
              "    <tr>\n",
              "      <th>MonthlyCharges</th>\n",
              "      <td>0.346583</td>\n",
              "    </tr>\n",
              "    <tr>\n",
              "      <th>Contract_Two year</th>\n",
              "      <td>0.051150</td>\n",
              "    </tr>\n",
              "    <tr>\n",
              "      <th>PaymentMethod_Electronic check</th>\n",
              "      <td>0.050140</td>\n",
              "    </tr>\n",
              "    <tr>\n",
              "      <th>Contract_One year</th>\n",
              "      <td>0.046801</td>\n",
              "    </tr>\n",
              "    <tr>\n",
              "      <th>gender_Male</th>\n",
              "      <td>0.041857</td>\n",
              "    </tr>\n",
              "    <tr>\n",
              "      <th>OnlineSecurity_Yes</th>\n",
              "      <td>0.037556</td>\n",
              "    </tr>\n",
              "    <tr>\n",
              "      <th>InternetService_Fiber optic</th>\n",
              "      <td>0.036558</td>\n",
              "    </tr>\n",
              "    <tr>\n",
              "      <th>PaperlessBilling_Yes</th>\n",
              "      <td>0.036296</td>\n",
              "    </tr>\n",
              "    <tr>\n",
              "      <th>OnlineBackup_Yes</th>\n",
              "      <td>0.035264</td>\n",
              "    </tr>\n",
              "    <tr>\n",
              "      <th>Partner_Yes</th>\n",
              "      <td>0.034986</td>\n",
              "    </tr>\n",
              "  </tbody>\n",
              "</table>\n",
              "</div>"
            ],
            "text/plain": [
              "                                importance_rfc\n",
              "MonthlyCharges                        0.346583\n",
              "Contract_Two year                     0.051150\n",
              "PaymentMethod_Electronic check        0.050140\n",
              "Contract_One year                     0.046801\n",
              "gender_Male                           0.041857\n",
              "OnlineSecurity_Yes                    0.037556\n",
              "InternetService_Fiber optic           0.036558\n",
              "PaperlessBilling_Yes                  0.036296\n",
              "OnlineBackup_Yes                      0.035264\n",
              "Partner_Yes                           0.034986"
            ]
          },
          "metadata": {
            "tags": []
          },
          "execution_count": 20
        }
      ]
    },
    {
      "cell_type": "code",
      "metadata": {
        "id": "bZG-iQ6WuFfD",
        "colab_type": "code",
        "outputId": "cb3f5602-b8d0-4327-ea95-6ee3f195dae8",
        "colab": {
          "base_uri": "https://localhost:8080/",
          "height": 286
        }
      },
      "source": [
        "from sklearn.ensemble import RandomForestRegressor\n",
        "\n",
        "rfr1 = RandomForestRegressor(n_estimators=100, random_state=42)\n",
        "\n",
        "X_trn1 = X_trn[E_trn == True]\n",
        "T_trn1 = T_trn[E_trn == True]\n",
        "E_trn1 = E_trn[E_trn == True]\n",
        "\n",
        "rfr1.fit(X_trn1, T_trn1)\n",
        "ci_rfr1_trn = concordance_index(T_trn1, rfr1.predict(X_trn1), E_trn1)\n",
        "ci_rfr1_val = concordance_index(T_val, rfr1.predict(X_val), E_val)\n",
        "\n",
        "print(f'Concordance index of Random forest regressor: train: {ci_rfr1_trn:.3f} valid: {ci_rfr1_val:.3f}')\n",
        "\n",
        "# feature importance\n",
        "fi_rfr1 = rfr1.feature_importances_\n",
        "rfi_rfr1 =  np.abs(fi_rfr1)/np.sum(np.abs(fi_rfr1))\n",
        "lab = X_trn.columns\n",
        "df_fi_rfr1 = pd.DataFrame(data={'importance_rfr1': rfi_rfr1}, index=lab)\n",
        "df_fi_rfr1 = df_fi_rfr1.sort_values(by='importance_rfr1', ascending=True)[18:]\n",
        "df_fi_rfr1.plot.barh(y='importance_rfr1');"
      ],
      "execution_count": 21,
      "outputs": [
        {
          "output_type": "stream",
          "text": [
            "Concordance index of Random forest regressor: train: 0.919 valid: 0.817\n"
          ],
          "name": "stdout"
        },
        {
          "output_type": "display_data",
          "data": {
            "image/png": "[encoded data removed]",
            "text/plain": [
              "<Figure size 432x288 with 1 Axes>"
            ]
          },
          "metadata": {
            "tags": []
          }
        }
      ]
    },
    {
      "cell_type": "code",
      "metadata": {
        "id": "hOV7R_s23hzb",
        "colab_type": "code",
        "colab": {
          "base_uri": "https://localhost:8080/",
          "height": 359
        },
        "outputId": "a4098e62-9da9-4af3-d17b-8c17d4ff6656"
      },
      "source": [
        "df_fi_rfr1.sort_values(by='importance_rfr1', ascending=False)"
      ],
      "execution_count": 22,
      "outputs": [
        {
          "output_type": "execute_result",
          "data": {
            "text/html": [
              "<div>\n",
              "<style scoped>\n",
              "    .dataframe tbody tr th:only-of-type {\n",
              "        vertical-align: middle;\n",
              "    }\n",
              "\n",
              "    .dataframe tbody tr th {\n",
              "        vertical-align: top;\n",
              "    }\n",
              "\n",
              "    .dataframe thead th {\n",
              "        text-align: right;\n",
              "    }\n",
              "</style>\n",
              "<table border=\"1\" class=\"dataframe\">\n",
              "  <thead>\n",
              "    <tr style=\"text-align: right;\">\n",
              "      <th></th>\n",
              "      <th>importance_rfr1</th>\n",
              "    </tr>\n",
              "  </thead>\n",
              "  <tbody>\n",
              "    <tr>\n",
              "      <th>MonthlyCharges</th>\n",
              "      <td>0.466281</td>\n",
              "    </tr>\n",
              "    <tr>\n",
              "      <th>Contract_One year</th>\n",
              "      <td>0.105160</td>\n",
              "    </tr>\n",
              "    <tr>\n",
              "      <th>Contract_Two year</th>\n",
              "      <td>0.079135</td>\n",
              "    </tr>\n",
              "    <tr>\n",
              "      <th>OnlineBackup_Yes</th>\n",
              "      <td>0.043223</td>\n",
              "    </tr>\n",
              "    <tr>\n",
              "      <th>Partner_Yes</th>\n",
              "      <td>0.042977</td>\n",
              "    </tr>\n",
              "    <tr>\n",
              "      <th>MultipleLines_Yes</th>\n",
              "      <td>0.035529</td>\n",
              "    </tr>\n",
              "    <tr>\n",
              "      <th>SeniorCitizen</th>\n",
              "      <td>0.028447</td>\n",
              "    </tr>\n",
              "    <tr>\n",
              "      <th>gender_Male</th>\n",
              "      <td>0.027198</td>\n",
              "    </tr>\n",
              "    <tr>\n",
              "      <th>PaymentMethod_Credit card (automatic)</th>\n",
              "      <td>0.019719</td>\n",
              "    </tr>\n",
              "    <tr>\n",
              "      <th>PaymentMethod_Electronic check</th>\n",
              "      <td>0.019448</td>\n",
              "    </tr>\n",
              "  </tbody>\n",
              "</table>\n",
              "</div>"
            ],
            "text/plain": [
              "                                       importance_rfr1\n",
              "MonthlyCharges                                0.466281\n",
              "Contract_One year                             0.105160\n",
              "Contract_Two year                             0.079135\n",
              "OnlineBackup_Yes                              0.043223\n",
              "Partner_Yes                                   0.042977\n",
              "MultipleLines_Yes                             0.035529\n",
              "SeniorCitizen                                 0.028447\n",
              "gender_Male                                   0.027198\n",
              "PaymentMethod_Credit card (automatic)         0.019719\n",
              "PaymentMethod_Electronic check                0.019448"
            ]
          },
          "metadata": {
            "tags": []
          },
          "execution_count": 22
        }
      ]
    },
    {
      "cell_type": "code",
      "metadata": {
        "colab_type": "code",
        "id": "DTDLpI37dQ7X",
        "outputId": "274c9aad-a564-467a-c9c6-5b99630a0e3f",
        "colab": {
          "base_uri": "https://localhost:8080/",
          "height": 286
        }
      },
      "source": [
        "from sklearn.ensemble import RandomForestRegressor\n",
        "\n",
        "rfr = RandomForestRegressor(n_estimators=100, random_state=42)\n",
        "rfr.fit(X_trn, T_trn)\n",
        "\n",
        "ci_rfr_trn = concordance_index(T_trn, rfr.predict(X_trn), E_trn)\n",
        "ci_rfr_val = concordance_index(T_val, rfr.predict(X_val), E_val)\n",
        "\n",
        "print(f'Concordance index of Random forest regressor: train: {ci_rfr_trn:.3f} valid: {ci_rfr_val:.3f}')\n",
        "\n",
        "# feature importance\n",
        "fi_rfr = rfr.feature_importances_\n",
        "rfi_rfr =  np.abs(fi_rfr)/np.sum(np.abs(fi_rfr))\n",
        "lab = X_trn.columns\n",
        "df_fi_rfr = pd.DataFrame(data={'importance_rfr': rfi_rfr}, index=lab)\n",
        "df_fi_rfr = df_fi_rfr.sort_values(by='importance_rfr', ascending=True)[18:]\n",
        "df_fi_rfr.plot.barh(y='importance_rfr');"
      ],
      "execution_count": 23,
      "outputs": [
        {
          "output_type": "stream",
          "text": [
            "Concordance index of Random forest regressor: train: 0.938 valid: 0.820\n"
          ],
          "name": "stdout"
        },
        {
          "output_type": "display_data",
          "data": {
            "image/png": "[encoded data removed]",
            "text/plain": [
              "<Figure size 432x288 with 1 Axes>"
            ]
          },
          "metadata": {
            "tags": []
          }
        }
      ]
    },
    {
      "cell_type": "code",
      "metadata": {
        "id": "UDcu9rHOr8_6",
        "colab_type": "code",
        "outputId": "fc5e142a-dd5c-4b1c-f2b0-28e543e07f8c",
        "colab": {
          "base_uri": "https://localhost:8080/",
          "height": 359
        }
      },
      "source": [
        "df_fi_rfr.sort_values(by='importance_rfr', ascending=False)"
      ],
      "execution_count": 24,
      "outputs": [
        {
          "output_type": "execute_result",
          "data": {
            "text/html": [
              "<div>\n",
              "<style scoped>\n",
              "    .dataframe tbody tr th:only-of-type {\n",
              "        vertical-align: middle;\n",
              "    }\n",
              "\n",
              "    .dataframe tbody tr th {\n",
              "        vertical-align: top;\n",
              "    }\n",
              "\n",
              "    .dataframe thead th {\n",
              "        text-align: right;\n",
              "    }\n",
              "</style>\n",
              "<table border=\"1\" class=\"dataframe\">\n",
              "  <thead>\n",
              "    <tr style=\"text-align: right;\">\n",
              "      <th></th>\n",
              "      <th>importance_rfr</th>\n",
              "    </tr>\n",
              "  </thead>\n",
              "  <tbody>\n",
              "    <tr>\n",
              "      <th>Contract_Two year</th>\n",
              "      <td>0.312050</td>\n",
              "    </tr>\n",
              "    <tr>\n",
              "      <th>MonthlyCharges</th>\n",
              "      <td>0.257313</td>\n",
              "    </tr>\n",
              "    <tr>\n",
              "      <th>Contract_One year</th>\n",
              "      <td>0.145683</td>\n",
              "    </tr>\n",
              "    <tr>\n",
              "      <th>PaymentMethod_Mailed check</th>\n",
              "      <td>0.034982</td>\n",
              "    </tr>\n",
              "    <tr>\n",
              "      <th>Partner_Yes</th>\n",
              "      <td>0.028924</td>\n",
              "    </tr>\n",
              "    <tr>\n",
              "      <th>OnlineBackup_Yes</th>\n",
              "      <td>0.027996</td>\n",
              "    </tr>\n",
              "    <tr>\n",
              "      <th>MultipleLines_Yes</th>\n",
              "      <td>0.025800</td>\n",
              "    </tr>\n",
              "    <tr>\n",
              "      <th>gender_Male</th>\n",
              "      <td>0.022176</td>\n",
              "    </tr>\n",
              "    <tr>\n",
              "      <th>PaperlessBilling_Yes</th>\n",
              "      <td>0.019041</td>\n",
              "    </tr>\n",
              "    <tr>\n",
              "      <th>Dependents_Yes</th>\n",
              "      <td>0.016708</td>\n",
              "    </tr>\n",
              "  </tbody>\n",
              "</table>\n",
              "</div>"
            ],
            "text/plain": [
              "                            importance_rfr\n",
              "Contract_Two year                 0.312050\n",
              "MonthlyCharges                    0.257313\n",
              "Contract_One year                 0.145683\n",
              "PaymentMethod_Mailed check        0.034982\n",
              "Partner_Yes                       0.028924\n",
              "OnlineBackup_Yes                  0.027996\n",
              "MultipleLines_Yes                 0.025800\n",
              "gender_Male                       0.022176\n",
              "PaperlessBilling_Yes              0.019041\n",
              "Dependents_Yes                    0.016708"
            ]
          },
          "metadata": {
            "tags": []
          },
          "execution_count": 24
        }
      ]
    },
    {
      "cell_type": "code",
      "metadata": {
        "id": "lhCSEA5hp4t-",
        "colab_type": "code",
        "outputId": "6f363eee-a751-4015-b03c-61236e213eed",
        "colab": {
          "base_uri": "https://localhost:8080/",
          "height": 286
        }
      },
      "source": [
        "from pysurvival.models.survival_forest import RandomSurvivalForestModel\n",
        "\n",
        "rsf = RandomSurvivalForestModel(num_trees=100)\n",
        "rsf.fit(X_trn, T_trn, E_trn, seed=0)\n",
        "ci_rsf_trn = concordance_index(T_trn, -rsf.predict_risk(X_trn), E_trn)\n",
        "ci_rsf_val = concordance_index(T_val, -rsf.predict_risk(X_val), E_val)\n",
        "\n",
        "print(f'Concordance index of Random survival forest: train: {ci_rsf_trn:.3f}, valid: {ci_rsf_val:.3f}')\n",
        "\n",
        "# feature importance\n",
        "fi_rsf = rsf.variable_importance_\n",
        "rfi_rsf =  np.abs(fi_rsf)/np.sum(np.abs(fi_rsf))\n",
        "lab = X_trn.columns\n",
        "df_fi_rsf = pd.DataFrame(data={'importance_rsf': rfi_rsf}, index=lab)\n",
        "df_fi_rsf = df_fi_rsf.sort_values(by='importance_rsf', ascending=True)[-10:]\n",
        "df_fi_rsf.plot.barh(y='importance_rsf');"
      ],
      "execution_count": 27,
      "outputs": [
        {
          "output_type": "stream",
          "text": [
            "Concordance index of Random survival forest: train: 0.847, valid: 0.844\n"
          ],
          "name": "stdout"
        },
        {
          "output_type": "display_data",
          "data": {
            "image/png": "[encoded data removed]",
            "text/plain": [
              "<Figure size 432x288 with 1 Axes>"
            ]
          },
          "metadata": {
            "tags": []
          }
        }
      ]
    },
    {
      "cell_type": "code",
      "metadata": {
        "id": "YQBUISNKtBZS",
        "colab_type": "code",
        "outputId": "38bf98fe-fdc6-4355-9f23-dc1096b24b4e",
        "colab": {
          "base_uri": "https://localhost:8080/",
          "height": 359
        }
      },
      "source": [
        "df_fi_rsf.sort_values(by='importance_rsf', ascending=False)"
      ],
      "execution_count": 28,
      "outputs": [
        {
          "output_type": "execute_result",
          "data": {
            "text/html": [
              "<div>\n",
              "<style scoped>\n",
              "    .dataframe tbody tr th:only-of-type {\n",
              "        vertical-align: middle;\n",
              "    }\n",
              "\n",
              "    .dataframe tbody tr th {\n",
              "        vertical-align: top;\n",
              "    }\n",
              "\n",
              "    .dataframe thead th {\n",
              "        text-align: right;\n",
              "    }\n",
              "</style>\n",
              "<table border=\"1\" class=\"dataframe\">\n",
              "  <thead>\n",
              "    <tr style=\"text-align: right;\">\n",
              "      <th></th>\n",
              "      <th>importance_rsf</th>\n",
              "    </tr>\n",
              "  </thead>\n",
              "  <tbody>\n",
              "    <tr>\n",
              "      <th>Contract_Two year</th>\n",
              "      <td>0.103379</td>\n",
              "    </tr>\n",
              "    <tr>\n",
              "      <th>Contract_One year</th>\n",
              "      <td>0.084170</td>\n",
              "    </tr>\n",
              "    <tr>\n",
              "      <th>PaymentMethod_Electronic check</th>\n",
              "      <td>0.066108</td>\n",
              "    </tr>\n",
              "    <tr>\n",
              "      <th>Partner_Yes</th>\n",
              "      <td>0.065598</td>\n",
              "    </tr>\n",
              "    <tr>\n",
              "      <th>OnlineSecurity_Yes</th>\n",
              "      <td>0.063223</td>\n",
              "    </tr>\n",
              "    <tr>\n",
              "      <th>TechSupport_Yes</th>\n",
              "      <td>0.059835</td>\n",
              "    </tr>\n",
              "    <tr>\n",
              "      <th>OnlineBackup_Yes</th>\n",
              "      <td>0.055889</td>\n",
              "    </tr>\n",
              "    <tr>\n",
              "      <th>DeviceProtection_Yes</th>\n",
              "      <td>0.051305</td>\n",
              "    </tr>\n",
              "    <tr>\n",
              "      <th>MonthlyCharges</th>\n",
              "      <td>0.045479</td>\n",
              "    </tr>\n",
              "    <tr>\n",
              "      <th>InternetService_Fiber optic</th>\n",
              "      <td>0.036056</td>\n",
              "    </tr>\n",
              "  </tbody>\n",
              "</table>\n",
              "</div>"
            ],
            "text/plain": [
              "                                importance_rsf\n",
              "Contract_Two year                     0.103379\n",
              "Contract_One year                     0.084170\n",
              "PaymentMethod_Electronic check        0.066108\n",
              "Partner_Yes                           0.065598\n",
              "OnlineSecurity_Yes                    0.063223\n",
              "TechSupport_Yes                       0.059835\n",
              "OnlineBackup_Yes                      0.055889\n",
              "DeviceProtection_Yes                  0.051305\n",
              "MonthlyCharges                        0.045479\n",
              "InternetService_Fiber optic           0.036056"
            ]
          },
          "metadata": {
            "tags": []
          },
          "execution_count": 28
        }
      ]
    },
    {
      "cell_type": "markdown",
      "metadata": {
        "id": "t3aJ4oVYlVCL",
        "colab_type": "text"
      },
      "source": [
        "## Random forest classifier-regressor\n",
        "\n",
        "Predict the event and then compute the order."
      ]
    },
    {
      "cell_type": "code",
      "metadata": {
        "id": "Oa1lXWRyv5_H",
        "colab_type": "code",
        "outputId": "6c46f29e-523e-400a-a71f-6d31d6a348c1",
        "colab": {
          "base_uri": "https://localhost:8080/",
          "height": 34
        }
      },
      "source": [
        "rfc = RandomForestClassifier(n_estimators=100, random_state=0)\n",
        "rfc.fit(X_trn, E_trn)\n",
        "\n",
        "# add to X_val the predicted event\n",
        "X_val_plus_E = X_val.copy()\n",
        "X_val_plus_E[event_col] = rfc.predict(X_val)\n",
        "\n",
        "# for the training dataset add the event column\n",
        "feat_plus_E = np.union1d(features, [event_col])\n",
        "X_trn_plus_E = data_train[feat_plus_E]\n",
        "\n",
        "rfr = RandomForestRegressor(n_estimators=100, random_state=0)\n",
        "rfr.fit(X_trn_plus_E, T_trn)\n",
        "\n",
        "ci_rfcr_trn = concordance_index(T_trn, rfr.predict(X_trn_plus_E), E_trn)\n",
        "ci_rfcr_val = concordance_index(T_val, rfr.predict(X_val_plus_E), E_val)\n",
        "\n",
        "print(f'Concordance index of Random forest classifier-regressor: train: {ci_rfcr_trn:.3f}, valid: {ci_rfcr_val:.3f}')"
      ],
      "execution_count": 29,
      "outputs": [
        {
          "output_type": "stream",
          "text": [
            "Concordance index of Random forest classifier-regressor: train: 0.957, valid: 0.689\n"
          ],
          "name": "stdout"
        }
      ]
    },
    {
      "cell_type": "markdown",
      "metadata": {
        "id": "SExVtJazvk19",
        "colab_type": "text"
      },
      "source": [
        "## Random forest regressor-classifier\n",
        "\n",
        "Predict the time and then the probability of the event."
      ]
    },
    {
      "cell_type": "code",
      "metadata": {
        "id": "09Q5f_3K0F-P",
        "colab_type": "code",
        "outputId": "d42c1a98-1ece-4f4c-8128-8aebec0442ac",
        "colab": {
          "base_uri": "https://localhost:8080/",
          "height": 34
        }
      },
      "source": [
        "rfr = RandomForestRegressor(n_estimators=100, random_state=0)\n",
        "rfr.fit(X_trn, T_trn)\n",
        "\n",
        "# add to X_val the predicted time\n",
        "X_val_plus_T = X_val.copy()\n",
        "X_val_plus_T[time_col] = rfr.predict(X_val)\n",
        "\n",
        "# for the training dataset add the time column\n",
        "feat_plus_T = np.union1d(features, [time_col])\n",
        "X_trn_plus_T = data_train[feat_plus_T]\n",
        "\n",
        "rfc = RandomForestClassifier(n_estimators=100, random_state=0)\n",
        "rfc.fit(X_trn_plus_T, E_trn)\n",
        "\n",
        "ci_rfrc_trn = concordance_index(T_trn, ~rfc.predict(X_trn_plus_T), E_trn)\n",
        "ci_rfrc_val = concordance_index(T_val, ~rfc.predict(X_val_plus_T), E_val)\n",
        "print(f'Concordance index of Random forest regressor-classifier: train: {ci_rfrc_trn:.3f}, valid: {ci_rfrc_val:.3f}')"
      ],
      "execution_count": 30,
      "outputs": [
        {
          "output_type": "stream",
          "text": [
            "Concordance index of Random forest regressor-classifier: train: 0.904, valid: 0.622\n"
          ],
          "name": "stdout"
        }
      ]
    },
    {
      "cell_type": "markdown",
      "metadata": {
        "id": "I-4sIdRdrbcm",
        "colab_type": "text"
      },
      "source": [
        "## Box plots"
      ]
    },
    {
      "cell_type": "markdown",
      "metadata": {
        "id": "mNrSxQT-rfYK",
        "colab_type": "text"
      },
      "source": [
        "### Box plot classification"
      ]
    },
    {
      "cell_type": "code",
      "metadata": {
        "id": "0qVztbZMrjhd",
        "colab_type": "code",
        "colab": {}
      },
      "source": [
        "# choose 20 random seeds\n",
        "np.random.seed(0)\n",
        "seeds = np.random.permutation(1000)[:20]"
      ],
      "execution_count": 0,
      "outputs": []
    },
    {
      "cell_type": "code",
      "metadata": {
        "id": "vWfNbXvXBboZ",
        "colab_type": "code",
        "colab": {}
      },
      "source": [
        "rfc_ci = []\n",
        "rfr1_ci = []\n",
        "rfr2_ci = []\n",
        "rsf_ci = []\n",
        "\n",
        "for _seed in seeds:\n",
        "  index_train, index_test = train_test_split( range(N), test_size = 0.3, random_state=_seed)\n",
        "  data_train = churn_data.loc[index_train].reset_index(drop=True)\n",
        "  data_test  = churn_data.loc[index_test].reset_index(drop=True)\n",
        "\n",
        "  # Creating the X, T and E inputs\n",
        "  X_trn, X_val = data_train[features], data_test[features]\n",
        "  T_trn, T_val = data_train[time_col], data_test[time_col]\n",
        "  E_trn, E_val = data_train[event_col], data_test[event_col]\n",
        "\n",
        "  rfc = RandomForestClassifier(n_estimators=100, random_state=42)\n",
        "  rfc.fit(X_trn, E_trn)\n",
        "  rfc_ci.append(concordance_index(T_val, rfc.predict_proba(X_val)[:,0], E_val))\n",
        "\n",
        "  rfr1 = RandomForestRegressor(n_estimators=100, random_state=42)\n",
        "  X_trn1 = X_trn[E_trn == True]\n",
        "  T_trn1 = T_trn[E_trn == True]\n",
        "  E_trn1 = E_trn[E_trn == True]\n",
        "  rfr1.fit(X_trn1, T_trn1)\n",
        "  rfr1_ci.append(concordance_index(T_val, rfr1.predict(X_val), E_val))\n",
        "\n",
        "  rfr2 = RandomForestRegressor(n_estimators=100, random_state=42)\n",
        "  rfr2.fit(X_trn, T_trn)\n",
        "  rfr2_ci.append(concordance_index(T_val, rfr2.predict(X_val), E_val))\n",
        "\n",
        "  rsf = RandomSurvivalForestModel(num_trees=100)\n",
        "  rsf.fit(X_trn, T_trn, E_trn, seed=42)\n",
        "  rsf_ci.append(concordance_index(T_val, -rsf.predict_risk(X_val), E_val))"
      ],
      "execution_count": 0,
      "outputs": []
    },
    {
      "cell_type": "code",
      "metadata": {
        "id": "jbr5W5AyZA9r",
        "colab_type": "code",
        "colab": {
          "base_uri": "https://localhost:8080/",
          "height": 513
        },
        "outputId": "2e69e5e5-a6f7-4fc8-c372-165e343e3dec"
      },
      "source": [
        "data = [rfc_ci, rfr1_ci, rfr2_ci, rsf_ci]\n",
        "green_diamond = dict(markerfacecolor='g', marker='D')\n",
        "\n",
        "fig1, ax1 = plt.subplots(figsize=(7,7))\n",
        "ax1.set_title('Concordance indexes')\n",
        "ax1.boxplot(data, notch=False, flierprops=green_diamond)\n",
        "ax1.set_xticklabels(['Random forest classifier', 'Random forest regressor 1', 'Random forest regressor 2', 'Random survival forest'], rotation=70)\n",
        "ax1.set_xlabel('Models')\n",
        "ax1.set_ylabel('Concordance index')\n",
        "plt.tight_layout()\n",
        "plt.savefig('concordance.png', format='png', dpi=100)\n",
        "# plt.show()"
      ],
      "execution_count": 61,
      "outputs": [
        {
          "output_type": "display_data",
          "data": {
            "image/png": "[encoded data removed]",
            "text/plain": [
              "<Figure size 504x504 with 1 Axes>"
            ]
          },
          "metadata": {
            "tags": []
          }
        }
      ]
    }
  ]
}